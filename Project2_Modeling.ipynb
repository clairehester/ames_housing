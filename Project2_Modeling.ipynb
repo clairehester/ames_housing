{
 "cells": [
  {
   "cell_type": "markdown",
   "metadata": {},
   "source": [
    "# Project 2 - Ames Housing Data\n",
    "## Modeling\n",
    "\n",
    "### Contents\n",
    "- [Read in Clean Data](#Read-in-Clean-Data)\n",
    "- [Set up X and y](#Set-up-X-and-y)\n",
    "- [Categorical Column Transforming](#Categorical-Column-Transforming)\n",
    "- [Ridge Regression with Standard Scaler](#Ridge-Regression-with-Standard-Scaler)\n",
    "- [Ridge Regression with QuantileTransformer](#Ridge-Regression-with-QuantileTransformer)\n",
    "- [Black Box Kaggle Model](#Black-Box-Kaggle-Model)\n",
    "- [Conclusion](#Conclusion)"
   ]
  },
  {
   "cell_type": "markdown",
   "metadata": {},
   "source": [
    "### Read in Clean Data"
   ]
  },
  {
   "cell_type": "code",
   "execution_count": 1,
   "metadata": {},
   "outputs": [],
   "source": [
    "# import libraries\n",
    "import pandas as pd\n",
    "import numpy as np\n",
    "import matplotlib.pyplot as plt\n",
    "import seaborn as sns\n",
    "\n",
    "from sklearn.linear_model import LinearRegression, Lasso, Ridge, ElasticNet\n",
    "from sklearn.model_selection import train_test_split, cross_val_score, GridSearchCV\n",
    "from sklearn.preprocessing import StandardScaler, PolynomialFeatures, OneHotEncoder, PowerTransformer, QuantileTransformer\n",
    "from sklearn.pipeline import make_pipeline\n",
    "from sklearn.feature_selection import SelectKBest, f_regression\n",
    "from sklearn.neighbors import KNeighborsClassifier, KNeighborsRegressor\n",
    "from sklearn.impute import SimpleImputer, KNNImputer\n",
    "from sklearn.svm import SVR\n",
    "from sklearn.metrics import mean_squared_error\n",
    "from sklearn.compose import ColumnTransformer, make_column_selector, make_column_transformer\n",
    "from sklearn.pipeline import Pipeline"
   ]
  },
  {
   "cell_type": "code",
   "execution_count": 2,
   "metadata": {},
   "outputs": [],
   "source": [
    "clean_train_df = pd.read_csv('./datasets/train_clean.csv', keep_default_na=False)"
   ]
  },
  {
   "cell_type": "code",
   "execution_count": 3,
   "metadata": {},
   "outputs": [],
   "source": [
    "clean_test_df = pd.read_csv('./datasets/test_clean.csv', keep_default_na=False)"
   ]
  },
  {
   "cell_type": "code",
   "execution_count": 4,
   "metadata": {},
   "outputs": [
    {
     "data": {
      "text/html": [
       "<div>\n",
       "<style scoped>\n",
       "    .dataframe tbody tr th:only-of-type {\n",
       "        vertical-align: middle;\n",
       "    }\n",
       "\n",
       "    .dataframe tbody tr th {\n",
       "        vertical-align: top;\n",
       "    }\n",
       "\n",
       "    .dataframe thead th {\n",
       "        text-align: right;\n",
       "    }\n",
       "</style>\n",
       "<table border=\"1\" class=\"dataframe\">\n",
       "  <thead>\n",
       "    <tr style=\"text-align: right;\">\n",
       "      <th></th>\n",
       "      <th>MS Zoning</th>\n",
       "      <th>Street</th>\n",
       "      <th>Alley</th>\n",
       "      <th>Lot Shape</th>\n",
       "      <th>Land Contour</th>\n",
       "      <th>Utilities</th>\n",
       "      <th>Lot Config</th>\n",
       "      <th>Land Slope</th>\n",
       "      <th>Neighborhood</th>\n",
       "      <th>Condition 1</th>\n",
       "      <th>...</th>\n",
       "      <th>Mo Sold</th>\n",
       "      <th>Yr Sold</th>\n",
       "      <th>SalePrice</th>\n",
       "      <th>Age</th>\n",
       "      <th>yrs_since_remodel</th>\n",
       "      <th>garage_age</th>\n",
       "      <th>OverallQual_GrLivArea</th>\n",
       "      <th>GarageArea_Cars</th>\n",
       "      <th>Age_RemodAge</th>\n",
       "      <th>FullBath_RmsAbvGrd</th>\n",
       "    </tr>\n",
       "  </thead>\n",
       "  <tbody>\n",
       "    <tr>\n",
       "      <th>0</th>\n",
       "      <td>RL</td>\n",
       "      <td>Pave</td>\n",
       "      <td>NA</td>\n",
       "      <td>IR1</td>\n",
       "      <td>Lvl</td>\n",
       "      <td>AllPub</td>\n",
       "      <td>CulDSac</td>\n",
       "      <td>Gtl</td>\n",
       "      <td>Sawyer</td>\n",
       "      <td>RRAe</td>\n",
       "      <td>...</td>\n",
       "      <td>3</td>\n",
       "      <td>2010</td>\n",
       "      <td>130500</td>\n",
       "      <td>35</td>\n",
       "      <td>6</td>\n",
       "      <td>35.0</td>\n",
       "      <td>8874</td>\n",
       "      <td>950.0</td>\n",
       "      <td>210</td>\n",
       "      <td>12</td>\n",
       "    </tr>\n",
       "    <tr>\n",
       "      <th>1</th>\n",
       "      <td>RL</td>\n",
       "      <td>Pave</td>\n",
       "      <td>NA</td>\n",
       "      <td>IR1</td>\n",
       "      <td>Lvl</td>\n",
       "      <td>AllPub</td>\n",
       "      <td>CulDSac</td>\n",
       "      <td>Gtl</td>\n",
       "      <td>SawyerW</td>\n",
       "      <td>Norm</td>\n",
       "      <td>...</td>\n",
       "      <td>4</td>\n",
       "      <td>2009</td>\n",
       "      <td>220000</td>\n",
       "      <td>15</td>\n",
       "      <td>14</td>\n",
       "      <td>14.0</td>\n",
       "      <td>14854</td>\n",
       "      <td>1118.0</td>\n",
       "      <td>210</td>\n",
       "      <td>16</td>\n",
       "    </tr>\n",
       "  </tbody>\n",
       "</table>\n",
       "<p>2 rows × 88 columns</p>\n",
       "</div>"
      ],
      "text/plain": [
       "  MS Zoning Street Alley Lot Shape Land Contour Utilities Lot Config  \\\n",
       "0        RL   Pave    NA       IR1          Lvl    AllPub    CulDSac   \n",
       "1        RL   Pave    NA       IR1          Lvl    AllPub    CulDSac   \n",
       "\n",
       "  Land Slope Neighborhood Condition 1  ... Mo Sold Yr Sold SalePrice Age  \\\n",
       "0        Gtl       Sawyer        RRAe  ...       3    2010    130500  35   \n",
       "1        Gtl      SawyerW        Norm  ...       4    2009    220000  15   \n",
       "\n",
       "  yrs_since_remodel garage_age OverallQual_GrLivArea GarageArea_Cars  \\\n",
       "0                 6       35.0                  8874           950.0   \n",
       "1                14       14.0                 14854          1118.0   \n",
       "\n",
       "   Age_RemodAge FullBath_RmsAbvGrd  \n",
       "0           210                 12  \n",
       "1           210                 16  \n",
       "\n",
       "[2 rows x 88 columns]"
      ]
     },
     "execution_count": 4,
     "metadata": {},
     "output_type": "execute_result"
    }
   ],
   "source": [
    "clean_train_df.head(2)"
   ]
  },
  {
   "cell_type": "code",
   "execution_count": 5,
   "metadata": {},
   "outputs": [
    {
     "data": {
      "text/html": [
       "<div>\n",
       "<style scoped>\n",
       "    .dataframe tbody tr th:only-of-type {\n",
       "        vertical-align: middle;\n",
       "    }\n",
       "\n",
       "    .dataframe tbody tr th {\n",
       "        vertical-align: top;\n",
       "    }\n",
       "\n",
       "    .dataframe thead th {\n",
       "        text-align: right;\n",
       "    }\n",
       "</style>\n",
       "<table border=\"1\" class=\"dataframe\">\n",
       "  <thead>\n",
       "    <tr style=\"text-align: right;\">\n",
       "      <th></th>\n",
       "      <th>MS Zoning</th>\n",
       "      <th>Street</th>\n",
       "      <th>Alley</th>\n",
       "      <th>Lot Shape</th>\n",
       "      <th>Land Contour</th>\n",
       "      <th>Utilities</th>\n",
       "      <th>Lot Config</th>\n",
       "      <th>Land Slope</th>\n",
       "      <th>Neighborhood</th>\n",
       "      <th>Condition 1</th>\n",
       "      <th>...</th>\n",
       "      <th>Misc Val</th>\n",
       "      <th>Mo Sold</th>\n",
       "      <th>Yr Sold</th>\n",
       "      <th>Age</th>\n",
       "      <th>yrs_since_remodel</th>\n",
       "      <th>garage_age</th>\n",
       "      <th>OverallQual_GrLivArea</th>\n",
       "      <th>GarageArea_Cars</th>\n",
       "      <th>Age_RemodAge</th>\n",
       "      <th>FullBath_RmsAbvGrd</th>\n",
       "    </tr>\n",
       "  </thead>\n",
       "  <tbody>\n",
       "    <tr>\n",
       "      <th>0</th>\n",
       "      <td>RM</td>\n",
       "      <td>Pave</td>\n",
       "      <td>Grvl</td>\n",
       "      <td>Reg</td>\n",
       "      <td>Lvl</td>\n",
       "      <td>AllPub</td>\n",
       "      <td>Inside</td>\n",
       "      <td>Gtl</td>\n",
       "      <td>OldTown</td>\n",
       "      <td>Norm</td>\n",
       "      <td>...</td>\n",
       "      <td>0</td>\n",
       "      <td>4</td>\n",
       "      <td>2006</td>\n",
       "      <td>101</td>\n",
       "      <td>61</td>\n",
       "      <td>101.0</td>\n",
       "      <td>11568</td>\n",
       "      <td>440</td>\n",
       "      <td>6161</td>\n",
       "      <td>18</td>\n",
       "    </tr>\n",
       "    <tr>\n",
       "      <th>1</th>\n",
       "      <td>RL</td>\n",
       "      <td>Pave</td>\n",
       "      <td>NA</td>\n",
       "      <td>IR1</td>\n",
       "      <td>Lvl</td>\n",
       "      <td>AllPub</td>\n",
       "      <td>Inside</td>\n",
       "      <td>Gtl</td>\n",
       "      <td>Sawyer</td>\n",
       "      <td>Norm</td>\n",
       "      <td>...</td>\n",
       "      <td>0</td>\n",
       "      <td>8</td>\n",
       "      <td>2006</td>\n",
       "      <td>34</td>\n",
       "      <td>34</td>\n",
       "      <td>34.0</td>\n",
       "      <td>9835</td>\n",
       "      <td>1160</td>\n",
       "      <td>1156</td>\n",
       "      <td>20</td>\n",
       "    </tr>\n",
       "  </tbody>\n",
       "</table>\n",
       "<p>2 rows × 87 columns</p>\n",
       "</div>"
      ],
      "text/plain": [
       "  MS Zoning Street Alley Lot Shape Land Contour Utilities Lot Config  \\\n",
       "0        RM   Pave  Grvl       Reg          Lvl    AllPub     Inside   \n",
       "1        RL   Pave    NA       IR1          Lvl    AllPub     Inside   \n",
       "\n",
       "  Land Slope Neighborhood Condition 1  ... Misc Val Mo Sold Yr Sold  Age  \\\n",
       "0        Gtl      OldTown        Norm  ...        0       4    2006  101   \n",
       "1        Gtl       Sawyer        Norm  ...        0       8    2006   34   \n",
       "\n",
       "  yrs_since_remodel garage_age OverallQual_GrLivArea GarageArea_Cars  \\\n",
       "0                61      101.0                 11568             440   \n",
       "1                34       34.0                  9835            1160   \n",
       "\n",
       "   Age_RemodAge FullBath_RmsAbvGrd  \n",
       "0          6161                 18  \n",
       "1          1156                 20  \n",
       "\n",
       "[2 rows x 87 columns]"
      ]
     },
     "execution_count": 5,
     "metadata": {},
     "output_type": "execute_result"
    }
   ],
   "source": [
    "clean_test_df.head(2)"
   ]
  },
  {
   "cell_type": "code",
   "execution_count": null,
   "metadata": {},
   "outputs": [],
   "source": []
  },
  {
   "cell_type": "code",
   "execution_count": null,
   "metadata": {},
   "outputs": [],
   "source": [
    "plt.style.use('ggplot')\n",
    "plt.subplots(figsize=(15,10))\n",
    "sns.heatmap(clean_train_df.corr()[['SalePrice']].sort_values(by='SalePrice', ascending=False), annot=True);"
   ]
  },
  {
   "cell_type": "code",
   "execution_count": null,
   "metadata": {},
   "outputs": [],
   "source": []
  },
  {
   "cell_type": "code",
   "execution_count": null,
   "metadata": {},
   "outputs": [],
   "source": []
  },
  {
   "cell_type": "markdown",
   "metadata": {},
   "source": [
    "### Set up X and y\n",
    "\n",
    "X will include all features, with the exception of a few numerical variables that do not have any correlation, Year Built variables that are accounted for with the feature engineered Age variables, and Sale Price (our target variable)."
   ]
  },
  {
   "cell_type": "code",
   "execution_count": 7,
   "metadata": {},
   "outputs": [],
   "source": [
    "X = clean_train_df.drop(columns=['Id','PID','MS SubClass','Year Built', 'Year Remod/Add','Garage Yr Blt','Yr Sold', 'SalePrice'])\n",
    "y = clean_train_df['SalePrice']"
   ]
  },
  {
   "cell_type": "code",
   "execution_count": 8,
   "metadata": {},
   "outputs": [
    {
     "data": {
      "text/html": [
       "<div>\n",
       "<style scoped>\n",
       "    .dataframe tbody tr th:only-of-type {\n",
       "        vertical-align: middle;\n",
       "    }\n",
       "\n",
       "    .dataframe tbody tr th {\n",
       "        vertical-align: top;\n",
       "    }\n",
       "\n",
       "    .dataframe thead th {\n",
       "        text-align: right;\n",
       "    }\n",
       "</style>\n",
       "<table border=\"1\" class=\"dataframe\">\n",
       "  <thead>\n",
       "    <tr style=\"text-align: right;\">\n",
       "      <th></th>\n",
       "      <th>MS Zoning</th>\n",
       "      <th>Street</th>\n",
       "      <th>Alley</th>\n",
       "      <th>Lot Shape</th>\n",
       "      <th>Land Contour</th>\n",
       "      <th>Utilities</th>\n",
       "      <th>Lot Config</th>\n",
       "      <th>Land Slope</th>\n",
       "      <th>Neighborhood</th>\n",
       "      <th>Condition 1</th>\n",
       "      <th>...</th>\n",
       "      <th>Pool Area</th>\n",
       "      <th>Misc Val</th>\n",
       "      <th>Mo Sold</th>\n",
       "      <th>Age</th>\n",
       "      <th>yrs_since_remodel</th>\n",
       "      <th>garage_age</th>\n",
       "      <th>OverallQual_GrLivArea</th>\n",
       "      <th>GarageArea_Cars</th>\n",
       "      <th>Age_RemodAge</th>\n",
       "      <th>FullBath_RmsAbvGrd</th>\n",
       "    </tr>\n",
       "  </thead>\n",
       "  <tbody>\n",
       "    <tr>\n",
       "      <th>0</th>\n",
       "      <td>RL</td>\n",
       "      <td>Pave</td>\n",
       "      <td>NA</td>\n",
       "      <td>IR1</td>\n",
       "      <td>Lvl</td>\n",
       "      <td>AllPub</td>\n",
       "      <td>CulDSac</td>\n",
       "      <td>Gtl</td>\n",
       "      <td>Sawyer</td>\n",
       "      <td>RRAe</td>\n",
       "      <td>...</td>\n",
       "      <td>0</td>\n",
       "      <td>0</td>\n",
       "      <td>3</td>\n",
       "      <td>35</td>\n",
       "      <td>6</td>\n",
       "      <td>35.0</td>\n",
       "      <td>8874</td>\n",
       "      <td>950.0</td>\n",
       "      <td>210</td>\n",
       "      <td>12</td>\n",
       "    </tr>\n",
       "    <tr>\n",
       "      <th>1</th>\n",
       "      <td>RL</td>\n",
       "      <td>Pave</td>\n",
       "      <td>NA</td>\n",
       "      <td>IR1</td>\n",
       "      <td>Lvl</td>\n",
       "      <td>AllPub</td>\n",
       "      <td>CulDSac</td>\n",
       "      <td>Gtl</td>\n",
       "      <td>SawyerW</td>\n",
       "      <td>Norm</td>\n",
       "      <td>...</td>\n",
       "      <td>0</td>\n",
       "      <td>0</td>\n",
       "      <td>4</td>\n",
       "      <td>15</td>\n",
       "      <td>14</td>\n",
       "      <td>14.0</td>\n",
       "      <td>14854</td>\n",
       "      <td>1118.0</td>\n",
       "      <td>210</td>\n",
       "      <td>16</td>\n",
       "    </tr>\n",
       "    <tr>\n",
       "      <th>2</th>\n",
       "      <td>RL</td>\n",
       "      <td>Pave</td>\n",
       "      <td>NA</td>\n",
       "      <td>Reg</td>\n",
       "      <td>Lvl</td>\n",
       "      <td>AllPub</td>\n",
       "      <td>Inside</td>\n",
       "      <td>Gtl</td>\n",
       "      <td>NAmes</td>\n",
       "      <td>Norm</td>\n",
       "      <td>...</td>\n",
       "      <td>0</td>\n",
       "      <td>0</td>\n",
       "      <td>1</td>\n",
       "      <td>58</td>\n",
       "      <td>4</td>\n",
       "      <td>58.0</td>\n",
       "      <td>5285</td>\n",
       "      <td>246.0</td>\n",
       "      <td>232</td>\n",
       "      <td>5</td>\n",
       "    </tr>\n",
       "    <tr>\n",
       "      <th>3</th>\n",
       "      <td>RL</td>\n",
       "      <td>Pave</td>\n",
       "      <td>NA</td>\n",
       "      <td>Reg</td>\n",
       "      <td>Lvl</td>\n",
       "      <td>AllPub</td>\n",
       "      <td>Inside</td>\n",
       "      <td>Gtl</td>\n",
       "      <td>Timber</td>\n",
       "      <td>Norm</td>\n",
       "      <td>...</td>\n",
       "      <td>0</td>\n",
       "      <td>0</td>\n",
       "      <td>4</td>\n",
       "      <td>5</td>\n",
       "      <td>4</td>\n",
       "      <td>4.0</td>\n",
       "      <td>7220</td>\n",
       "      <td>800.0</td>\n",
       "      <td>20</td>\n",
       "      <td>14</td>\n",
       "    </tr>\n",
       "    <tr>\n",
       "      <th>4</th>\n",
       "      <td>RL</td>\n",
       "      <td>Pave</td>\n",
       "      <td>NA</td>\n",
       "      <td>IR1</td>\n",
       "      <td>Lvl</td>\n",
       "      <td>AllPub</td>\n",
       "      <td>Inside</td>\n",
       "      <td>Gtl</td>\n",
       "      <td>SawyerW</td>\n",
       "      <td>Norm</td>\n",
       "      <td>...</td>\n",
       "      <td>0</td>\n",
       "      <td>0</td>\n",
       "      <td>3</td>\n",
       "      <td>111</td>\n",
       "      <td>18</td>\n",
       "      <td>54.0</td>\n",
       "      <td>8670</td>\n",
       "      <td>968.0</td>\n",
       "      <td>1998</td>\n",
       "      <td>12</td>\n",
       "    </tr>\n",
       "  </tbody>\n",
       "</table>\n",
       "<p>5 rows × 80 columns</p>\n",
       "</div>"
      ],
      "text/plain": [
       "  MS Zoning Street Alley Lot Shape Land Contour Utilities Lot Config  \\\n",
       "0        RL   Pave    NA       IR1          Lvl    AllPub    CulDSac   \n",
       "1        RL   Pave    NA       IR1          Lvl    AllPub    CulDSac   \n",
       "2        RL   Pave    NA       Reg          Lvl    AllPub     Inside   \n",
       "3        RL   Pave    NA       Reg          Lvl    AllPub     Inside   \n",
       "4        RL   Pave    NA       IR1          Lvl    AllPub     Inside   \n",
       "\n",
       "  Land Slope Neighborhood Condition 1  ... Pool Area Misc Val Mo Sold  Age  \\\n",
       "0        Gtl       Sawyer        RRAe  ...         0        0       3   35   \n",
       "1        Gtl      SawyerW        Norm  ...         0        0       4   15   \n",
       "2        Gtl        NAmes        Norm  ...         0        0       1   58   \n",
       "3        Gtl       Timber        Norm  ...         0        0       4    5   \n",
       "4        Gtl      SawyerW        Norm  ...         0        0       3  111   \n",
       "\n",
       "  yrs_since_remodel garage_age OverallQual_GrLivArea GarageArea_Cars  \\\n",
       "0                 6       35.0                  8874           950.0   \n",
       "1                14       14.0                 14854          1118.0   \n",
       "2                 4       58.0                  5285           246.0   \n",
       "3                 4        4.0                  7220           800.0   \n",
       "4                18       54.0                  8670           968.0   \n",
       "\n",
       "   Age_RemodAge FullBath_RmsAbvGrd  \n",
       "0           210                 12  \n",
       "1           210                 16  \n",
       "2           232                  5  \n",
       "3            20                 14  \n",
       "4          1998                 12  \n",
       "\n",
       "[5 rows x 80 columns]"
      ]
     },
     "execution_count": 8,
     "metadata": {},
     "output_type": "execute_result"
    }
   ],
   "source": [
    "X.head()"
   ]
  },
  {
   "cell_type": "code",
   "execution_count": 9,
   "metadata": {},
   "outputs": [
    {
     "data": {
      "text/plain": [
       "0    130500\n",
       "1    220000\n",
       "2    109000\n",
       "3    174000\n",
       "4    138500\n",
       "Name: SalePrice, dtype: int64"
      ]
     },
     "execution_count": 9,
     "metadata": {},
     "output_type": "execute_result"
    }
   ],
   "source": [
    "y.head()"
   ]
  },
  {
   "cell_type": "code",
   "execution_count": 10,
   "metadata": {},
   "outputs": [
    {
     "data": {
      "text/plain": [
       "(2026, 80)"
      ]
     },
     "execution_count": 10,
     "metadata": {},
     "output_type": "execute_result"
    }
   ],
   "source": [
    "X.shape"
   ]
  },
  {
   "cell_type": "code",
   "execution_count": 11,
   "metadata": {},
   "outputs": [
    {
     "data": {
      "text/plain": [
       "(2026,)"
      ]
     },
     "execution_count": 11,
     "metadata": {},
     "output_type": "execute_result"
    }
   ],
   "source": [
    "y.shape"
   ]
  },
  {
   "cell_type": "code",
   "execution_count": 50,
   "metadata": {},
   "outputs": [],
   "source": [
    "X_real_test = clean_test_df.drop(columns=['Id','PID','MS SubClass','Year Built', 'Year Remod/Add','Garage Yr Blt','Yr Sold'])"
   ]
  },
  {
   "cell_type": "code",
   "execution_count": 13,
   "metadata": {},
   "outputs": [
    {
     "data": {
      "text/plain": [
       "(878, 80)"
      ]
     },
     "execution_count": 13,
     "metadata": {},
     "output_type": "execute_result"
    }
   ],
   "source": [
    "X_real_test.shape"
   ]
  },
  {
   "cell_type": "markdown",
   "metadata": {},
   "source": [
    "### Categorical Column Transforming\n",
    "\n",
    "For increased interpretability, I am using Get Dummies for this model. Due to variations in some of the categorical columns, I pare down the total number of columns by taking the intersection of features that are in both the training and testing data sets."
   ]
  },
  {
   "cell_type": "code",
   "execution_count": 14,
   "metadata": {},
   "outputs": [],
   "source": [
    "X_real_test_dummies = pd.get_dummies(X_real_test, drop_first=True)"
   ]
  },
  {
   "cell_type": "code",
   "execution_count": 15,
   "metadata": {},
   "outputs": [],
   "source": [
    "X_dummies = pd.get_dummies(X, drop_first=True)"
   ]
  },
  {
   "cell_type": "code",
   "execution_count": 16,
   "metadata": {},
   "outputs": [
    {
     "data": {
      "text/plain": [
       "(2026, 241)"
      ]
     },
     "execution_count": 16,
     "metadata": {},
     "output_type": "execute_result"
    }
   ],
   "source": [
    "X_dummies.shape"
   ]
  },
  {
   "cell_type": "code",
   "execution_count": 17,
   "metadata": {},
   "outputs": [],
   "source": [
    "# Source: https://stackoverflow.com/questions/27967914/efficient-way-to-compute-intersectinn-two-numpy-arrays\n",
    "X_dummies = X_dummies[np.intersect1d(X_dummies.columns, X_real_test_dummies.columns)]"
   ]
  },
  {
   "cell_type": "code",
   "execution_count": 49,
   "metadata": {},
   "outputs": [],
   "source": [
    "X_real_test_dummies = X_real_test_dummies[np.intersect1d(X_dummies.columns, X_real_test_dummies.columns)]"
   ]
  },
  {
   "cell_type": "code",
   "execution_count": 19,
   "metadata": {},
   "outputs": [
    {
     "data": {
      "text/plain": [
       "(2026, 218)"
      ]
     },
     "execution_count": 19,
     "metadata": {},
     "output_type": "execute_result"
    }
   ],
   "source": [
    "X_dummies.shape"
   ]
  },
  {
   "cell_type": "markdown",
   "metadata": {},
   "source": [
    "### Ridge Regression with Standard Scaler"
   ]
  },
  {
   "cell_type": "code",
   "execution_count": 20,
   "metadata": {},
   "outputs": [
    {
     "name": "stdout",
     "output_type": "stream",
     "text": [
      "Train Score 0.941210348191238\n"
     ]
    },
    {
     "data": {
      "text/plain": [
       "{'ridge__alpha': 1, 'selectkbest__k': 170}"
      ]
     },
     "execution_count": 20,
     "metadata": {},
     "output_type": "execute_result"
    }
   ],
   "source": [
    "# Source for seterr: https://stackoverflow.com/questions/14861891/runtimewarning-invalid-value-encountered-in-divide\n",
    "np.seterr(divide='ignore', invalid='ignore')\n",
    "\n",
    "param_grid = {\n",
    "    'selectkbest__k': range(100,200,5),\n",
    "    'ridge__alpha' : [.01, .1, 1, 10, 100],\n",
    "}\n",
    "\n",
    "pipe = make_pipeline(StandardScaler(),SelectKBest(),Ridge())\n",
    "\n",
    "gs = GridSearchCV(pipe, param_grid, n_jobs=-1)\n",
    "gs.fit(X_dummies, y)\n",
    "\n",
    "print('Train Score', gs.score(X_dummies, y))\n",
    "gs.best_params_"
   ]
  },
  {
   "cell_type": "code",
   "execution_count": 21,
   "metadata": {},
   "outputs": [
    {
     "data": {
      "text/html": [
       "<style>div.sk-top-container {color: black;background-color: white;}div.sk-toggleable {background-color: white;}label.sk-toggleable__label {cursor: pointer;display: block;width: 100%;margin-bottom: 0;padding: 0.2em 0.3em;box-sizing: border-box;text-align: center;}div.sk-toggleable__content {max-height: 0;max-width: 0;overflow: hidden;text-align: left;background-color: #f0f8ff;}div.sk-toggleable__content pre {margin: 0.2em;color: black;border-radius: 0.25em;background-color: #f0f8ff;}input.sk-toggleable__control:checked~div.sk-toggleable__content {max-height: 200px;max-width: 100%;overflow: auto;}div.sk-estimator input.sk-toggleable__control:checked~label.sk-toggleable__label {background-color: #d4ebff;}div.sk-label input.sk-toggleable__control:checked~label.sk-toggleable__label {background-color: #d4ebff;}input.sk-hidden--visually {border: 0;clip: rect(1px 1px 1px 1px);clip: rect(1px, 1px, 1px, 1px);height: 1px;margin: -1px;overflow: hidden;padding: 0;position: absolute;width: 1px;}div.sk-estimator {font-family: monospace;background-color: #f0f8ff;margin: 0.25em 0.25em;border: 1px dotted black;border-radius: 0.25em;box-sizing: border-box;}div.sk-estimator:hover {background-color: #d4ebff;}div.sk-parallel-item::after {content: \"\";width: 100%;border-bottom: 1px solid gray;flex-grow: 1;}div.sk-label:hover label.sk-toggleable__label {background-color: #d4ebff;}div.sk-serial::before {content: \"\";position: absolute;border-left: 1px solid gray;box-sizing: border-box;top: 2em;bottom: 0;left: 50%;}div.sk-serial {display: flex;flex-direction: column;align-items: center;background-color: white;}div.sk-item {z-index: 1;}div.sk-parallel {display: flex;align-items: stretch;justify-content: center;background-color: white;}div.sk-parallel-item {display: flex;flex-direction: column;position: relative;background-color: white;}div.sk-parallel-item:first-child::after {align-self: flex-end;width: 50%;}div.sk-parallel-item:last-child::after {align-self: flex-start;width: 50%;}div.sk-parallel-item:only-child::after {width: 0;}div.sk-dashed-wrapped {border: 1px dashed gray;margin: 0.2em;box-sizing: border-box;padding-bottom: 0.1em;background-color: white;position: relative;}div.sk-label label {font-family: monospace;font-weight: bold;background-color: white;display: inline-block;line-height: 1.2em;}div.sk-label-container {position: relative;z-index: 2;text-align: center;}div.sk-container {display: inline-block;position: relative;}</style><div class=\"sk-top-container\"><div class=\"sk-container\"><div class=\"sk-item sk-dashed-wrapped\"><div class=\"sk-label-container\"><div class=\"sk-label sk-toggleable\"><input class=\"sk-toggleable__control sk-hidden--visually\" id=\"b5c94125-89e3-4f0a-b2fa-d4f41ab2820c\" type=\"checkbox\" ><label class=\"sk-toggleable__label\" for=\"b5c94125-89e3-4f0a-b2fa-d4f41ab2820c\">GridSearchCV</label><div class=\"sk-toggleable__content\"><pre>GridSearchCV(estimator=Pipeline(steps=[('standardscaler', StandardScaler()),\n",
       "                                       ('selectkbest', SelectKBest()),\n",
       "                                       ('ridge', Ridge())]),\n",
       "             n_jobs=-1,\n",
       "             param_grid={'ridge__alpha': [0.01, 0.1, 1, 10, 100],\n",
       "                         'selectkbest__k': range(100, 200, 5)})</pre></div></div></div><div class=\"sk-parallel\"><div class=\"sk-parallel-item\"><div class=\"sk-item\"><div class=\"sk-serial\"><div class=\"sk-item\"><div class=\"sk-serial\"><div class=\"sk-item\"><div class=\"sk-estimator sk-toggleable\"><input class=\"sk-toggleable__control sk-hidden--visually\" id=\"93f234e1-df06-42db-b565-94aa9a64e59a\" type=\"checkbox\" ><label class=\"sk-toggleable__label\" for=\"93f234e1-df06-42db-b565-94aa9a64e59a\">StandardScaler</label><div class=\"sk-toggleable__content\"><pre>StandardScaler()</pre></div></div></div><div class=\"sk-item\"><div class=\"sk-estimator sk-toggleable\"><input class=\"sk-toggleable__control sk-hidden--visually\" id=\"99ad0239-db12-4de6-bd2e-72d7bfe80b00\" type=\"checkbox\" ><label class=\"sk-toggleable__label\" for=\"99ad0239-db12-4de6-bd2e-72d7bfe80b00\">SelectKBest</label><div class=\"sk-toggleable__content\"><pre>SelectKBest()</pre></div></div></div><div class=\"sk-item\"><div class=\"sk-estimator sk-toggleable\"><input class=\"sk-toggleable__control sk-hidden--visually\" id=\"175d3c1b-527b-4fcf-9cd6-633ec956e85d\" type=\"checkbox\" ><label class=\"sk-toggleable__label\" for=\"175d3c1b-527b-4fcf-9cd6-633ec956e85d\">Ridge</label><div class=\"sk-toggleable__content\"><pre>Ridge()</pre></div></div></div></div></div></div></div></div></div></div></div></div>"
      ],
      "text/plain": [
       "GridSearchCV(estimator=Pipeline(steps=[('standardscaler', StandardScaler()),\n",
       "                                       ('selectkbest', SelectKBest()),\n",
       "                                       ('ridge', Ridge())]),\n",
       "             n_jobs=-1,\n",
       "             param_grid={'ridge__alpha': [0.01, 0.1, 1, 10, 100],\n",
       "                         'selectkbest__k': range(100, 200, 5)})"
      ]
     },
     "execution_count": 21,
     "metadata": {},
     "output_type": "execute_result"
    }
   ],
   "source": [
    "from sklearn import set_config\n",
    "set_config(display='diagram')\n",
    "gs"
   ]
  },
  {
   "cell_type": "code",
   "execution_count": 23,
   "metadata": {},
   "outputs": [],
   "source": [
    "y_preds = gs.predict(X_dummies)"
   ]
  },
  {
   "cell_type": "code",
   "execution_count": 24,
   "metadata": {},
   "outputs": [
    {
     "data": {
      "text/plain": [
       "18971.673143977696"
      ]
     },
     "execution_count": 24,
     "metadata": {},
     "output_type": "execute_result"
    }
   ],
   "source": [
    "ss_rmse = mean_squared_error(y, y_preds, squared = False)\n",
    "ss_rmse"
   ]
  },
  {
   "cell_type": "code",
   "execution_count": 25,
   "metadata": {},
   "outputs": [],
   "source": [
    "residuals = y - y_preds"
   ]
  },
  {
   "cell_type": "code",
   "execution_count": null,
   "metadata": {},
   "outputs": [],
   "source": [
    "plt.subplots(figsize=(10,8))\n",
    "plt.plot(residuals, 'o')\n",
    "plt.axhline();"
   ]
  },
  {
   "cell_type": "markdown",
   "metadata": {},
   "source": [
    "### Model Performance\n",
    "\n",
    "Based on the R2 score, this model explains about 94% of the variance in sales price for the training data.\n",
    "\n",
    "The Root Mean Squared Error on the training data is 18,971.\n",
    "\n",
    "From looking at the residuals plot, there are a few outliers - but the residuals appear to be independent and identically distributed, with the majority landing between 5000 and -5000. "
   ]
  },
  {
   "cell_type": "code",
   "execution_count": 27,
   "metadata": {},
   "outputs": [
    {
     "data": {
      "text/html": [
       "<div>\n",
       "<style scoped>\n",
       "    .dataframe tbody tr th:only-of-type {\n",
       "        vertical-align: middle;\n",
       "    }\n",
       "\n",
       "    .dataframe tbody tr th {\n",
       "        vertical-align: top;\n",
       "    }\n",
       "\n",
       "    .dataframe thead th {\n",
       "        text-align: right;\n",
       "    }\n",
       "</style>\n",
       "<table border=\"1\" class=\"dataframe\">\n",
       "  <thead>\n",
       "    <tr style=\"text-align: right;\">\n",
       "      <th></th>\n",
       "      <th>Feature Names</th>\n",
       "      <th>Coefficients</th>\n",
       "    </tr>\n",
       "  </thead>\n",
       "  <tbody>\n",
       "    <tr>\n",
       "      <th>147</th>\n",
       "      <td>OverallQual_GrLivArea</td>\n",
       "      <td>58087.357941</td>\n",
       "    </tr>\n",
       "    <tr>\n",
       "      <th>89</th>\n",
       "      <td>GarageArea_Cars</td>\n",
       "      <td>15746.683877</td>\n",
       "    </tr>\n",
       "    <tr>\n",
       "      <th>165</th>\n",
       "      <td>Total Bsmt SF</td>\n",
       "      <td>10614.246877</td>\n",
       "    </tr>\n",
       "    <tr>\n",
       "      <th>69</th>\n",
       "      <td>FullBath_RmsAbvGrd</td>\n",
       "      <td>6362.884898</td>\n",
       "    </tr>\n",
       "    <tr>\n",
       "      <th>54</th>\n",
       "      <td>Exterior 2nd_CmentBd</td>\n",
       "      <td>6248.336367</td>\n",
       "    </tr>\n",
       "    <tr>\n",
       "      <th>...</th>\n",
       "      <td>...</td>\n",
       "      <td>...</td>\n",
       "    </tr>\n",
       "    <tr>\n",
       "      <th>74</th>\n",
       "      <td>Garage Cars</td>\n",
       "      <td>-6688.540983</td>\n",
       "    </tr>\n",
       "    <tr>\n",
       "      <th>1</th>\n",
       "      <td>2nd Flr SF</td>\n",
       "      <td>-6724.154537</td>\n",
       "    </tr>\n",
       "    <tr>\n",
       "      <th>3</th>\n",
       "      <td>Age</td>\n",
       "      <td>-7651.293905</td>\n",
       "    </tr>\n",
       "    <tr>\n",
       "      <th>90</th>\n",
       "      <td>Gr Liv Area</td>\n",
       "      <td>-8038.504020</td>\n",
       "    </tr>\n",
       "    <tr>\n",
       "      <th>146</th>\n",
       "      <td>Overall Qual</td>\n",
       "      <td>-13810.289219</td>\n",
       "    </tr>\n",
       "  </tbody>\n",
       "</table>\n",
       "<p>170 rows × 2 columns</p>\n",
       "</div>"
      ],
      "text/plain": [
       "             Feature Names  Coefficients\n",
       "147  OverallQual_GrLivArea  58087.357941\n",
       "89         GarageArea_Cars  15746.683877\n",
       "165          Total Bsmt SF  10614.246877\n",
       "69      FullBath_RmsAbvGrd   6362.884898\n",
       "54    Exterior 2nd_CmentBd   6248.336367\n",
       "..                     ...           ...\n",
       "74             Garage Cars  -6688.540983\n",
       "1               2nd Flr SF  -6724.154537\n",
       "3                      Age  -7651.293905\n",
       "90             Gr Liv Area  -8038.504020\n",
       "146           Overall Qual -13810.289219\n",
       "\n",
       "[170 rows x 2 columns]"
      ]
     },
     "execution_count": 27,
     "metadata": {},
     "output_type": "execute_result"
    }
   ],
   "source": [
    "selected_feature = gs.best_estimator_.named_steps['selectkbest'].get_support()\n",
    "ss_coefs = gs.best_estimator_.named_steps['ridge'].coef_\n",
    "X_cols = X_dummies.columns.values[selected_feature==True]\n",
    "ss_coefs_df = pd.DataFrame({'Feature Names': X_cols,'Coefficients': ss_coefs})\n",
    "ss_coefs_df.sort_values(by='Coefficients', ascending=False)"
   ]
  },
  {
   "cell_type": "code",
   "execution_count": 28,
   "metadata": {},
   "outputs": [],
   "source": [
    "ss_pos_coefs = ss_coefs_df.nlargest(10, 'Coefficients')"
   ]
  },
  {
   "cell_type": "code",
   "execution_count": 29,
   "metadata": {},
   "outputs": [],
   "source": [
    "ss_neg_coefs = ss_coefs_df.nsmallest(10, 'Coefficients').sort_values(by='Coefficients', ascending=False)"
   ]
  },
  {
   "cell_type": "code",
   "execution_count": 30,
   "metadata": {},
   "outputs": [],
   "source": [
    "ss_graph_coefs = pd.concat([ss_pos_coefs, ss_neg_coefs])"
   ]
  },
  {
   "cell_type": "code",
   "execution_count": 31,
   "metadata": {},
   "outputs": [
    {
     "data": {
      "image/png": "[encoded data removed]",
      "text/plain": [
       "<Figure size 1152x576 with 1 Axes>"
      ]
     },
     "metadata": {},
     "output_type": "display_data"
    }
   ],
   "source": [
    "plt.style.use('ggplot')\n",
    "plt.subplots(figsize=(16, 8))\n",
    "sns.barplot('Feature Names', 'Coefficients', data=ss_graph_coefs.sort_values('Coefficients'), palette='plasma')\n",
    "plt.xticks(rotation=45)\n",
    "plt.title('20 Most Impactful Coefficients - Standard Scaler Ridge Regression');"
   ]
  },
  {
   "cell_type": "markdown",
   "metadata": {},
   "source": [
    "### Interpreting Coefficients\n",
    "\n",
    "What stands out to me most here is the symmetry between positive polynomial coefficients, and corresponding negative coefficients.  \n",
    "\n",
    "The largest coefficient (\\\\$58,087) in this model is for Overall Quality multiplied by Above Ground Living Area. When assessing these individually, Overall Quality has a negative coefficient of -\\\\$13,810 and Above Ground Living Area has a negative coefficient of -\\\\$8038. I believe this is acting as an offset - as the value of these two features increases, the overall value of the home will increase as well - but the negative coefficients help balance out the multiplier.\n",
    "\n",
    "We se a similar affect here with Garage Area X Cars, and a few of the Square Footage measurements."
   ]
  },
  {
   "cell_type": "markdown",
   "metadata": {},
   "source": [
    "### Ridge Regression with QuantileTransformer"
   ]
  },
  {
   "cell_type": "code",
   "execution_count": 32,
   "metadata": {},
   "outputs": [
    {
     "name": "stdout",
     "output_type": "stream",
     "text": [
      "Train Score 0.8971093670343326\n"
     ]
    },
    {
     "data": {
      "text/plain": [
       "{'ridge__alpha': 10, 'selectkbest__k': 190}"
      ]
     },
     "execution_count": 32,
     "metadata": {},
     "output_type": "execute_result"
    }
   ],
   "source": [
    "from sklearn import set_config\n",
    "set_config(display='diagram')\n",
    "\n",
    "np.seterr(divide='ignore', invalid='ignore')\n",
    "\n",
    "param_grid = {\n",
    "    'selectkbest__k': range(100,200,5),\n",
    "    'ridge__alpha' : [.01, .1, 1, 10, 100],\n",
    "}\n",
    "\n",
    "pipe2 = make_pipeline(QuantileTransformer(),SelectKBest(),Ridge())\n",
    "\n",
    "gs2 = GridSearchCV(pipe2, param_grid, n_jobs=-1)\n",
    "gs2.fit(X_dummies, y)\n",
    "\n",
    "print('Train Score', gs2.score(X_dummies, y))\n",
    "gs2.best_params_"
   ]
  },
  {
   "cell_type": "code",
   "execution_count": 33,
   "metadata": {},
   "outputs": [
    {
     "data": {
      "text/html": [
       "<style>div.sk-top-container {color: black;background-color: white;}div.sk-toggleable {background-color: white;}label.sk-toggleable__label {cursor: pointer;display: block;width: 100%;margin-bottom: 0;padding: 0.2em 0.3em;box-sizing: border-box;text-align: center;}div.sk-toggleable__content {max-height: 0;max-width: 0;overflow: hidden;text-align: left;background-color: #f0f8ff;}div.sk-toggleable__content pre {margin: 0.2em;color: black;border-radius: 0.25em;background-color: #f0f8ff;}input.sk-toggleable__control:checked~div.sk-toggleable__content {max-height: 200px;max-width: 100%;overflow: auto;}div.sk-estimator input.sk-toggleable__control:checked~label.sk-toggleable__label {background-color: #d4ebff;}div.sk-label input.sk-toggleable__control:checked~label.sk-toggleable__label {background-color: #d4ebff;}input.sk-hidden--visually {border: 0;clip: rect(1px 1px 1px 1px);clip: rect(1px, 1px, 1px, 1px);height: 1px;margin: -1px;overflow: hidden;padding: 0;position: absolute;width: 1px;}div.sk-estimator {font-family: monospace;background-color: #f0f8ff;margin: 0.25em 0.25em;border: 1px dotted black;border-radius: 0.25em;box-sizing: border-box;}div.sk-estimator:hover {background-color: #d4ebff;}div.sk-parallel-item::after {content: \"\";width: 100%;border-bottom: 1px solid gray;flex-grow: 1;}div.sk-label:hover label.sk-toggleable__label {background-color: #d4ebff;}div.sk-serial::before {content: \"\";position: absolute;border-left: 1px solid gray;box-sizing: border-box;top: 2em;bottom: 0;left: 50%;}div.sk-serial {display: flex;flex-direction: column;align-items: center;background-color: white;}div.sk-item {z-index: 1;}div.sk-parallel {display: flex;align-items: stretch;justify-content: center;background-color: white;}div.sk-parallel-item {display: flex;flex-direction: column;position: relative;background-color: white;}div.sk-parallel-item:first-child::after {align-self: flex-end;width: 50%;}div.sk-parallel-item:last-child::after {align-self: flex-start;width: 50%;}div.sk-parallel-item:only-child::after {width: 0;}div.sk-dashed-wrapped {border: 1px dashed gray;margin: 0.2em;box-sizing: border-box;padding-bottom: 0.1em;background-color: white;position: relative;}div.sk-label label {font-family: monospace;font-weight: bold;background-color: white;display: inline-block;line-height: 1.2em;}div.sk-label-container {position: relative;z-index: 2;text-align: center;}div.sk-container {display: inline-block;position: relative;}</style><div class=\"sk-top-container\"><div class=\"sk-container\"><div class=\"sk-item sk-dashed-wrapped\"><div class=\"sk-label-container\"><div class=\"sk-label sk-toggleable\"><input class=\"sk-toggleable__control sk-hidden--visually\" id=\"3e0ac1e6-b0b1-4252-a395-5c9c35558704\" type=\"checkbox\" ><label class=\"sk-toggleable__label\" for=\"3e0ac1e6-b0b1-4252-a395-5c9c35558704\">GridSearchCV</label><div class=\"sk-toggleable__content\"><pre>GridSearchCV(estimator=Pipeline(steps=[('quantiletransformer',\n",
       "                                        QuantileTransformer()),\n",
       "                                       ('selectkbest', SelectKBest()),\n",
       "                                       ('ridge', Ridge())]),\n",
       "             n_jobs=-1,\n",
       "             param_grid={'ridge__alpha': [0.01, 0.1, 1, 10, 100],\n",
       "                         'selectkbest__k': range(100, 200, 5)})</pre></div></div></div><div class=\"sk-parallel\"><div class=\"sk-parallel-item\"><div class=\"sk-item\"><div class=\"sk-serial\"><div class=\"sk-item\"><div class=\"sk-serial\"><div class=\"sk-item\"><div class=\"sk-estimator sk-toggleable\"><input class=\"sk-toggleable__control sk-hidden--visually\" id=\"385dbbd2-33d7-4d2f-9e8d-e1de31c52156\" type=\"checkbox\" ><label class=\"sk-toggleable__label\" for=\"385dbbd2-33d7-4d2f-9e8d-e1de31c52156\">QuantileTransformer</label><div class=\"sk-toggleable__content\"><pre>QuantileTransformer()</pre></div></div></div><div class=\"sk-item\"><div class=\"sk-estimator sk-toggleable\"><input class=\"sk-toggleable__control sk-hidden--visually\" id=\"6de5f473-8084-44f8-bd9f-ad647a47856e\" type=\"checkbox\" ><label class=\"sk-toggleable__label\" for=\"6de5f473-8084-44f8-bd9f-ad647a47856e\">SelectKBest</label><div class=\"sk-toggleable__content\"><pre>SelectKBest()</pre></div></div></div><div class=\"sk-item\"><div class=\"sk-estimator sk-toggleable\"><input class=\"sk-toggleable__control sk-hidden--visually\" id=\"92e9be8f-fd72-472f-86c4-4255fd49340a\" type=\"checkbox\" ><label class=\"sk-toggleable__label\" for=\"92e9be8f-fd72-472f-86c4-4255fd49340a\">Ridge</label><div class=\"sk-toggleable__content\"><pre>Ridge()</pre></div></div></div></div></div></div></div></div></div></div></div></div>"
      ],
      "text/plain": [
       "GridSearchCV(estimator=Pipeline(steps=[('quantiletransformer',\n",
       "                                        QuantileTransformer()),\n",
       "                                       ('selectkbest', SelectKBest()),\n",
       "                                       ('ridge', Ridge())]),\n",
       "             n_jobs=-1,\n",
       "             param_grid={'ridge__alpha': [0.01, 0.1, 1, 10, 100],\n",
       "                         'selectkbest__k': range(100, 200, 5)})"
      ]
     },
     "execution_count": 33,
     "metadata": {},
     "output_type": "execute_result"
    }
   ],
   "source": [
    "set_config(display='diagram')\n",
    "gs2"
   ]
  },
  {
   "cell_type": "code",
   "execution_count": 35,
   "metadata": {},
   "outputs": [],
   "source": [
    "y_preds_qt = gs2.predict(X_dummies)"
   ]
  },
  {
   "cell_type": "code",
   "execution_count": 36,
   "metadata": {},
   "outputs": [
    {
     "data": {
      "text/plain": [
       "25098.23082923839"
      ]
     },
     "execution_count": 36,
     "metadata": {},
     "output_type": "execute_result"
    }
   ],
   "source": [
    "qt_rmse = mean_squared_error(y, y_preds_qt, squared=False)\n",
    "qt_rmse"
   ]
  },
  {
   "cell_type": "code",
   "execution_count": 37,
   "metadata": {},
   "outputs": [],
   "source": [
    "residuals = y - y_preds_qt"
   ]
  },
  {
   "cell_type": "code",
   "execution_count": 38,
   "metadata": {},
   "outputs": [
    {
     "data": {
      "image/png": "[encoded data removed]",
      "text/plain": [
       "<Figure size 720x576 with 1 Axes>"
      ]
     },
     "metadata": {},
     "output_type": "display_data"
    }
   ],
   "source": [
    "plt.subplots(figsize=(10,8))\n",
    "plt.plot(residuals, 'o')\n",
    "plt.axhline();"
   ]
  },
  {
   "cell_type": "code",
   "execution_count": null,
   "metadata": {},
   "outputs": [],
   "source": []
  },
  {
   "cell_type": "markdown",
   "metadata": {},
   "source": [
    "### Model Performance\n",
    "\n",
    "When using Quantile Transformer instead of Standard Scaler, the score drops slightly. This model explains 89.7% of the variation in sales price. Let's dig into these coefficents.\n",
    "\n",
    "The Root Mean Squared Error on the training data is 25,098. This is higher than the Standard Scaler model.\n",
    "\n",
    "This residual plot shows outliers just like the Standard Scaler model, but here they are more evenly distributed. While most residuals tend to be between 5000 and -5000 here as well, the positive outliers stretch as high as 20,000."
   ]
  },
  {
   "cell_type": "code",
   "execution_count": 39,
   "metadata": {},
   "outputs": [
    {
     "data": {
      "text/html": [
       "<div>\n",
       "<style scoped>\n",
       "    .dataframe tbody tr th:only-of-type {\n",
       "        vertical-align: middle;\n",
       "    }\n",
       "\n",
       "    .dataframe tbody tr th {\n",
       "        vertical-align: top;\n",
       "    }\n",
       "\n",
       "    .dataframe thead th {\n",
       "        text-align: right;\n",
       "    }\n",
       "</style>\n",
       "<table border=\"1\" class=\"dataframe\">\n",
       "  <thead>\n",
       "    <tr style=\"text-align: right;\">\n",
       "      <th></th>\n",
       "      <th>Feature Names</th>\n",
       "      <th>Coefficients</th>\n",
       "    </tr>\n",
       "  </thead>\n",
       "  <tbody>\n",
       "    <tr>\n",
       "      <th>0</th>\n",
       "      <td>1st Flr SF</td>\n",
       "      <td>24298.732897</td>\n",
       "    </tr>\n",
       "    <tr>\n",
       "      <th>1</th>\n",
       "      <td>2nd Flr SF</td>\n",
       "      <td>19993.614281</td>\n",
       "    </tr>\n",
       "    <tr>\n",
       "      <th>2</th>\n",
       "      <td>3Ssn Porch</td>\n",
       "      <td>-1599.925925</td>\n",
       "    </tr>\n",
       "    <tr>\n",
       "      <th>3</th>\n",
       "      <td>Age</td>\n",
       "      <td>-10237.167783</td>\n",
       "    </tr>\n",
       "    <tr>\n",
       "      <th>4</th>\n",
       "      <td>Age_RemodAge</td>\n",
       "      <td>-6626.916536</td>\n",
       "    </tr>\n",
       "    <tr>\n",
       "      <th>...</th>\n",
       "      <td>...</td>\n",
       "      <td>...</td>\n",
       "    </tr>\n",
       "    <tr>\n",
       "      <th>185</th>\n",
       "      <td>Total Bsmt SF</td>\n",
       "      <td>21600.032140</td>\n",
       "    </tr>\n",
       "    <tr>\n",
       "      <th>186</th>\n",
       "      <td>Utilities_NoSewr</td>\n",
       "      <td>-486.638096</td>\n",
       "    </tr>\n",
       "    <tr>\n",
       "      <th>187</th>\n",
       "      <td>Wood Deck SF</td>\n",
       "      <td>2729.860856</td>\n",
       "    </tr>\n",
       "    <tr>\n",
       "      <th>188</th>\n",
       "      <td>garage_age</td>\n",
       "      <td>-5598.764057</td>\n",
       "    </tr>\n",
       "    <tr>\n",
       "      <th>189</th>\n",
       "      <td>yrs_since_remodel</td>\n",
       "      <td>-1283.478894</td>\n",
       "    </tr>\n",
       "  </tbody>\n",
       "</table>\n",
       "<p>190 rows × 2 columns</p>\n",
       "</div>"
      ],
      "text/plain": [
       "         Feature Names  Coefficients\n",
       "0           1st Flr SF  24298.732897\n",
       "1           2nd Flr SF  19993.614281\n",
       "2           3Ssn Porch  -1599.925925\n",
       "3                  Age -10237.167783\n",
       "4         Age_RemodAge  -6626.916536\n",
       "..                 ...           ...\n",
       "185      Total Bsmt SF  21600.032140\n",
       "186   Utilities_NoSewr   -486.638096\n",
       "187       Wood Deck SF   2729.860856\n",
       "188         garage_age  -5598.764057\n",
       "189  yrs_since_remodel  -1283.478894\n",
       "\n",
       "[190 rows x 2 columns]"
      ]
     },
     "execution_count": 39,
     "metadata": {},
     "output_type": "execute_result"
    }
   ],
   "source": [
    "selected_feature = gs2.best_estimator_.named_steps['selectkbest'].get_support()\n",
    "qt_coefs = gs2.best_estimator_.named_steps['ridge'].coef_\n",
    "X_cols = X_dummies.columns.values[selected_feature==True]\n",
    "qt_coefs_df = pd.DataFrame({'Feature Names': X_cols,'Coefficients': qt_coefs})\n",
    "qt_coefs_df"
   ]
  },
  {
   "cell_type": "code",
   "execution_count": 40,
   "metadata": {},
   "outputs": [
    {
     "data": {
      "text/html": [
       "<div>\n",
       "<style scoped>\n",
       "    .dataframe tbody tr th:only-of-type {\n",
       "        vertical-align: middle;\n",
       "    }\n",
       "\n",
       "    .dataframe tbody tr th {\n",
       "        vertical-align: top;\n",
       "    }\n",
       "\n",
       "    .dataframe thead th {\n",
       "        text-align: right;\n",
       "    }\n",
       "</style>\n",
       "<table border=\"1\" class=\"dataframe\">\n",
       "  <thead>\n",
       "    <tr style=\"text-align: right;\">\n",
       "      <th></th>\n",
       "      <th>Feature Names</th>\n",
       "      <th>Coefficients</th>\n",
       "    </tr>\n",
       "  </thead>\n",
       "  <tbody>\n",
       "    <tr>\n",
       "      <th>161</th>\n",
       "      <td>Neighborhood_StoneBr</td>\n",
       "      <td>34239.430006</td>\n",
       "    </tr>\n",
       "    <tr>\n",
       "      <th>156</th>\n",
       "      <td>Neighborhood_NridgHt</td>\n",
       "      <td>32868.292250</td>\n",
       "    </tr>\n",
       "    <tr>\n",
       "      <th>155</th>\n",
       "      <td>Neighborhood_NoRidge</td>\n",
       "      <td>27108.051591</td>\n",
       "    </tr>\n",
       "    <tr>\n",
       "      <th>166</th>\n",
       "      <td>Overall Qual</td>\n",
       "      <td>25277.326560</td>\n",
       "    </tr>\n",
       "    <tr>\n",
       "      <th>23</th>\n",
       "      <td>BsmtFin SF 1</td>\n",
       "      <td>24728.729515</td>\n",
       "    </tr>\n",
       "    <tr>\n",
       "      <th>...</th>\n",
       "      <td>...</td>\n",
       "      <td>...</td>\n",
       "    </tr>\n",
       "    <tr>\n",
       "      <th>114</th>\n",
       "      <td>Kitchen AbvGr</td>\n",
       "      <td>-11250.463188</td>\n",
       "    </tr>\n",
       "    <tr>\n",
       "      <th>9</th>\n",
       "      <td>Bldg Type_Duplex</td>\n",
       "      <td>-12419.959974</td>\n",
       "    </tr>\n",
       "    <tr>\n",
       "      <th>154</th>\n",
       "      <td>Neighborhood_NWAmes</td>\n",
       "      <td>-13203.282956</td>\n",
       "    </tr>\n",
       "    <tr>\n",
       "      <th>11</th>\n",
       "      <td>Bldg Type_TwnhsE</td>\n",
       "      <td>-17051.595268</td>\n",
       "    </tr>\n",
       "    <tr>\n",
       "      <th>10</th>\n",
       "      <td>Bldg Type_Twnhs</td>\n",
       "      <td>-18641.989786</td>\n",
       "    </tr>\n",
       "  </tbody>\n",
       "</table>\n",
       "<p>190 rows × 2 columns</p>\n",
       "</div>"
      ],
      "text/plain": [
       "            Feature Names  Coefficients\n",
       "161  Neighborhood_StoneBr  34239.430006\n",
       "156  Neighborhood_NridgHt  32868.292250\n",
       "155  Neighborhood_NoRidge  27108.051591\n",
       "166          Overall Qual  25277.326560\n",
       "23           BsmtFin SF 1  24728.729515\n",
       "..                    ...           ...\n",
       "114         Kitchen AbvGr -11250.463188\n",
       "9        Bldg Type_Duplex -12419.959974\n",
       "154   Neighborhood_NWAmes -13203.282956\n",
       "11       Bldg Type_TwnhsE -17051.595268\n",
       "10        Bldg Type_Twnhs -18641.989786\n",
       "\n",
       "[190 rows x 2 columns]"
      ]
     },
     "execution_count": 40,
     "metadata": {},
     "output_type": "execute_result"
    }
   ],
   "source": [
    "qt_coefs_df.sort_values(by='Coefficients', ascending=False)"
   ]
  },
  {
   "cell_type": "code",
   "execution_count": 41,
   "metadata": {},
   "outputs": [],
   "source": [
    "qt_pos_coefs = qt_coefs_df.nlargest(10, 'Coefficients')"
   ]
  },
  {
   "cell_type": "code",
   "execution_count": 42,
   "metadata": {},
   "outputs": [],
   "source": [
    "qt_neg_coefs = qt_coefs_df.nsmallest(10, 'Coefficients').sort_values(by='Coefficients', ascending=False)"
   ]
  },
  {
   "cell_type": "code",
   "execution_count": 43,
   "metadata": {},
   "outputs": [
    {
     "data": {
      "text/html": [
       "<div>\n",
       "<style scoped>\n",
       "    .dataframe tbody tr th:only-of-type {\n",
       "        vertical-align: middle;\n",
       "    }\n",
       "\n",
       "    .dataframe tbody tr th {\n",
       "        vertical-align: top;\n",
       "    }\n",
       "\n",
       "    .dataframe thead th {\n",
       "        text-align: right;\n",
       "    }\n",
       "</style>\n",
       "<table border=\"1\" class=\"dataframe\">\n",
       "  <thead>\n",
       "    <tr style=\"text-align: right;\">\n",
       "      <th></th>\n",
       "      <th>Feature Names</th>\n",
       "      <th>Coefficients</th>\n",
       "    </tr>\n",
       "  </thead>\n",
       "  <tbody>\n",
       "    <tr>\n",
       "      <th>161</th>\n",
       "      <td>Neighborhood_StoneBr</td>\n",
       "      <td>34239.430006</td>\n",
       "    </tr>\n",
       "    <tr>\n",
       "      <th>156</th>\n",
       "      <td>Neighborhood_NridgHt</td>\n",
       "      <td>32868.292250</td>\n",
       "    </tr>\n",
       "    <tr>\n",
       "      <th>155</th>\n",
       "      <td>Neighborhood_NoRidge</td>\n",
       "      <td>27108.051591</td>\n",
       "    </tr>\n",
       "    <tr>\n",
       "      <th>166</th>\n",
       "      <td>Overall Qual</td>\n",
       "      <td>25277.326560</td>\n",
       "    </tr>\n",
       "    <tr>\n",
       "      <th>23</th>\n",
       "      <td>BsmtFin SF 1</td>\n",
       "      <td>24728.729515</td>\n",
       "    </tr>\n",
       "    <tr>\n",
       "      <th>0</th>\n",
       "      <td>1st Flr SF</td>\n",
       "      <td>24298.732897</td>\n",
       "    </tr>\n",
       "    <tr>\n",
       "      <th>121</th>\n",
       "      <td>Lot Area</td>\n",
       "      <td>23771.448647</td>\n",
       "    </tr>\n",
       "    <tr>\n",
       "      <th>135</th>\n",
       "      <td>Mas Vnr Area</td>\n",
       "      <td>22591.295357</td>\n",
       "    </tr>\n",
       "    <tr>\n",
       "      <th>103</th>\n",
       "      <td>Gr Liv Area</td>\n",
       "      <td>22533.262391</td>\n",
       "    </tr>\n",
       "    <tr>\n",
       "      <th>52</th>\n",
       "      <td>Exterior 1st_BrkFace</td>\n",
       "      <td>21922.134911</td>\n",
       "    </tr>\n",
       "    <tr>\n",
       "      <th>162</th>\n",
       "      <td>Neighborhood_Timber</td>\n",
       "      <td>-8949.943235</td>\n",
       "    </tr>\n",
       "    <tr>\n",
       "      <th>159</th>\n",
       "      <td>Neighborhood_SawyerW</td>\n",
       "      <td>-9052.018335</td>\n",
       "    </tr>\n",
       "    <tr>\n",
       "      <th>147</th>\n",
       "      <td>Neighborhood_CollgCr</td>\n",
       "      <td>-9109.496805</td>\n",
       "    </tr>\n",
       "    <tr>\n",
       "      <th>150</th>\n",
       "      <td>Neighborhood_Gilbert</td>\n",
       "      <td>-10211.654436</td>\n",
       "    </tr>\n",
       "    <tr>\n",
       "      <th>3</th>\n",
       "      <td>Age</td>\n",
       "      <td>-10237.167783</td>\n",
       "    </tr>\n",
       "    <tr>\n",
       "      <th>114</th>\n",
       "      <td>Kitchen AbvGr</td>\n",
       "      <td>-11250.463188</td>\n",
       "    </tr>\n",
       "    <tr>\n",
       "      <th>9</th>\n",
       "      <td>Bldg Type_Duplex</td>\n",
       "      <td>-12419.959974</td>\n",
       "    </tr>\n",
       "    <tr>\n",
       "      <th>154</th>\n",
       "      <td>Neighborhood_NWAmes</td>\n",
       "      <td>-13203.282956</td>\n",
       "    </tr>\n",
       "    <tr>\n",
       "      <th>11</th>\n",
       "      <td>Bldg Type_TwnhsE</td>\n",
       "      <td>-17051.595268</td>\n",
       "    </tr>\n",
       "    <tr>\n",
       "      <th>10</th>\n",
       "      <td>Bldg Type_Twnhs</td>\n",
       "      <td>-18641.989786</td>\n",
       "    </tr>\n",
       "  </tbody>\n",
       "</table>\n",
       "</div>"
      ],
      "text/plain": [
       "            Feature Names  Coefficients\n",
       "161  Neighborhood_StoneBr  34239.430006\n",
       "156  Neighborhood_NridgHt  32868.292250\n",
       "155  Neighborhood_NoRidge  27108.051591\n",
       "166          Overall Qual  25277.326560\n",
       "23           BsmtFin SF 1  24728.729515\n",
       "0              1st Flr SF  24298.732897\n",
       "121              Lot Area  23771.448647\n",
       "135          Mas Vnr Area  22591.295357\n",
       "103           Gr Liv Area  22533.262391\n",
       "52   Exterior 1st_BrkFace  21922.134911\n",
       "162   Neighborhood_Timber  -8949.943235\n",
       "159  Neighborhood_SawyerW  -9052.018335\n",
       "147  Neighborhood_CollgCr  -9109.496805\n",
       "150  Neighborhood_Gilbert -10211.654436\n",
       "3                     Age -10237.167783\n",
       "114         Kitchen AbvGr -11250.463188\n",
       "9        Bldg Type_Duplex -12419.959974\n",
       "154   Neighborhood_NWAmes -13203.282956\n",
       "11       Bldg Type_TwnhsE -17051.595268\n",
       "10        Bldg Type_Twnhs -18641.989786"
      ]
     },
     "execution_count": 43,
     "metadata": {},
     "output_type": "execute_result"
    }
   ],
   "source": [
    "qt_graph_coefs = pd.concat([qt_pos_coefs, qt_neg_coefs])\n",
    "qt_graph_coefs"
   ]
  },
  {
   "cell_type": "code",
   "execution_count": 44,
   "metadata": {},
   "outputs": [
    {
     "data": {
      "image/png": "[encoded data removed]",
      "text/plain": [
       "<Figure size 1152x576 with 1 Axes>"
      ]
     },
     "metadata": {},
     "output_type": "display_data"
    }
   ],
   "source": [
    "plt.style.use('ggplot')\n",
    "plt.subplots(figsize=(16, 8))\n",
    "sns.barplot('Feature Names', 'Coefficients', data=qt_graph_coefs.sort_values('Coefficients'), palette='plasma')\n",
    "plt.xticks(rotation=45)\n",
    "plt.title('20 Most Impactful Coefficients - Quantile Transformer with Ridge Regression');"
   ]
  },
  {
   "cell_type": "markdown",
   "metadata": {},
   "source": [
    "### Interpreting Coefficients\n",
    "\n",
    "First, a disclaimer that all above numbers related to a specific coefficient are under the assumption that all else is held constant.\n",
    "\n",
    "**Neighborhoods:** 3 neighborhoods of Northridge, Stone Brook, and Northridge Heights have the highest coefficents, while Northwest Ames, Gilbert, College Creek and Sawyer West all have negative coefficients . These should sound familiar from our neighborhood discussion. A home in Stone Brook, for example,  is predicted to be worth \\\\$34,000 more. On the negative side, a house in Northwest Ames is worth \\\\$13,000 less.  \n",
    "\n",
    "**Overall Quality** has the 4th largest coefficient. A nominal increase of 1 unit, such as Poor to Fair or Above Average to Good, will increase the value of a home by \\\\$25,000.\n",
    "\n",
    "**Square footage:** Many of the features related to square footage and the size of the home are also in the top 10 positive coefficients. This aligns with expectations based on our exploratory data analysis.\n",
    "\n",
    "**House age** has a negative coefficient of about \\\\$10,000. This aligns with our expectation that newer houses are more valuable, and the price of a given home will decrease over time.\n",
    "\n",
    "**Building type:** is also a large factor. Here we can see that the affect of Duplex’s and Townhouses his a decreased sales price. \n"
   ]
  },
  {
   "cell_type": "markdown",
   "metadata": {},
   "source": [
    "### Black Box - Kaggle Model\n",
    "\n",
    "The model below ultimately led to my best Kaggle competition score.\n",
    "\n",
    "Here, I will also use a log transform on the target, y, and One Hot Encoder instead of get dummies.\n",
    "This model also utilizes a preprocessor and column transformers.\n",
    "\n",
    "The combination of transformers, preprocessors, piplines and grids leads to a strong model that makes strong predictions. The downside here is that the model loses interpretability once all of these model features are used together."
   ]
  },
  {
   "cell_type": "code",
   "execution_count": 45,
   "metadata": {},
   "outputs": [],
   "source": [
    "y_log = np.log(clean_train_df['SalePrice'])"
   ]
  },
  {
   "cell_type": "code",
   "execution_count": 58,
   "metadata": {},
   "outputs": [
    {
     "name": "stdout",
     "output_type": "stream",
     "text": [
      "Train Best 0.9118294422236147\n",
      "Train Score 0.9309944203552301\n"
     ]
    },
    {
     "data": {
      "text/plain": [
       "{'ridge__alpha': 15, 'selectkbest__k': 210}"
      ]
     },
     "execution_count": 58,
     "metadata": {},
     "output_type": "execute_result"
    }
   ],
   "source": [
    "np.seterr(divide='ignore', invalid='ignore')\n",
    "\n",
    "num_cols = make_column_selector(dtype_include='number')\n",
    "cat_cols = make_column_selector(dtype_include='object')\n",
    "\n",
    "preprocessor = make_column_transformer(\n",
    "    (make_pipeline(StandardScaler()), num_cols),\n",
    "    (make_pipeline(OneHotEncoder(handle_unknown='ignore', sparse=False)), cat_cols)\n",
    ")\n",
    "\n",
    "\n",
    "param_grid = {\n",
    "    'selectkbest__k': range(180,220,5),\n",
    "    'ridge__alpha' : [5, 10, 15, 20],\n",
    "}\n",
    "\n",
    "pipe = make_pipeline(preprocessor,SelectKBest(),Ridge())\n",
    "\n",
    "grid = GridSearchCV(pipe, param_grid, n_jobs=-1, cv=100)\n",
    "grid.fit(X, y_log)\n",
    "\n",
    "print('Train Best', grid.best_score_)\n",
    "print('Train Score', grid.score(X, y_log))\n",
    "grid.best_params_"
   ]
  },
  {
   "cell_type": "code",
   "execution_count": 47,
   "metadata": {},
   "outputs": [
    {
     "data": {
      "text/html": [
       "<style>div.sk-top-container {color: black;background-color: white;}div.sk-toggleable {background-color: white;}label.sk-toggleable__label {cursor: pointer;display: block;width: 100%;margin-bottom: 0;padding: 0.2em 0.3em;box-sizing: border-box;text-align: center;}div.sk-toggleable__content {max-height: 0;max-width: 0;overflow: hidden;text-align: left;background-color: #f0f8ff;}div.sk-toggleable__content pre {margin: 0.2em;color: black;border-radius: 0.25em;background-color: #f0f8ff;}input.sk-toggleable__control:checked~div.sk-toggleable__content {max-height: 200px;max-width: 100%;overflow: auto;}div.sk-estimator input.sk-toggleable__control:checked~label.sk-toggleable__label {background-color: #d4ebff;}div.sk-label input.sk-toggleable__control:checked~label.sk-toggleable__label {background-color: #d4ebff;}input.sk-hidden--visually {border: 0;clip: rect(1px 1px 1px 1px);clip: rect(1px, 1px, 1px, 1px);height: 1px;margin: -1px;overflow: hidden;padding: 0;position: absolute;width: 1px;}div.sk-estimator {font-family: monospace;background-color: #f0f8ff;margin: 0.25em 0.25em;border: 1px dotted black;border-radius: 0.25em;box-sizing: border-box;}div.sk-estimator:hover {background-color: #d4ebff;}div.sk-parallel-item::after {content: \"\";width: 100%;border-bottom: 1px solid gray;flex-grow: 1;}div.sk-label:hover label.sk-toggleable__label {background-color: #d4ebff;}div.sk-serial::before {content: \"\";position: absolute;border-left: 1px solid gray;box-sizing: border-box;top: 2em;bottom: 0;left: 50%;}div.sk-serial {display: flex;flex-direction: column;align-items: center;background-color: white;}div.sk-item {z-index: 1;}div.sk-parallel {display: flex;align-items: stretch;justify-content: center;background-color: white;}div.sk-parallel-item {display: flex;flex-direction: column;position: relative;background-color: white;}div.sk-parallel-item:first-child::after {align-self: flex-end;width: 50%;}div.sk-parallel-item:last-child::after {align-self: flex-start;width: 50%;}div.sk-parallel-item:only-child::after {width: 0;}div.sk-dashed-wrapped {border: 1px dashed gray;margin: 0.2em;box-sizing: border-box;padding-bottom: 0.1em;background-color: white;position: relative;}div.sk-label label {font-family: monospace;font-weight: bold;background-color: white;display: inline-block;line-height: 1.2em;}div.sk-label-container {position: relative;z-index: 2;text-align: center;}div.sk-container {display: inline-block;position: relative;}</style><div class=\"sk-top-container\"><div class=\"sk-container\"><div class=\"sk-item sk-dashed-wrapped\"><div class=\"sk-label-container\"><div class=\"sk-label sk-toggleable\"><input class=\"sk-toggleable__control sk-hidden--visually\" id=\"9b3c7690-1c6c-4ffd-9ccf-72860e73ece5\" type=\"checkbox\" ><label class=\"sk-toggleable__label\" for=\"9b3c7690-1c6c-4ffd-9ccf-72860e73ece5\">GridSearchCV</label><div class=\"sk-toggleable__content\"><pre>GridSearchCV(cv=10,\n",
       "             estimator=Pipeline(steps=[('columntransformer',\n",
       "                                        ColumnTransformer(transformers=[('pipeline-1',\n",
       "                                                                         Pipeline(steps=[('standardscaler',\n",
       "                                                                                          StandardScaler())]),\n",
       "                                                                         <sklearn.compose._column_transformer.make_column_selector object at 0x7f929a5a7e20>),\n",
       "                                                                        ('pipeline-2',\n",
       "                                                                         Pipeline(steps=[('onehotencoder',\n",
       "                                                                                          OneHotEncoder(handle_unknown='ignore',\n",
       "                                                                                                        sparse=False))]),\n",
       "                                                                         <sklearn.compose._column_transformer.make_column_selector object at 0x7f929a5a7700>)])),\n",
       "                                       ('selectkbest', SelectKBest()),\n",
       "                                       ('ridge', Ridge())]),\n",
       "             n_jobs=-1,\n",
       "             param_grid={'ridge__alpha': [5, 10, 15, 20],\n",
       "                         'selectkbest__k': range(180, 220, 5)})</pre></div></div></div><div class=\"sk-parallel\"><div class=\"sk-parallel-item\"><div class=\"sk-item\"><div class=\"sk-serial\"><div class=\"sk-item\"><div class=\"sk-serial\"><div class=\"sk-item sk-dashed-wrapped\"><div class=\"sk-label-container\"><div class=\"sk-label sk-toggleable\"><input class=\"sk-toggleable__control sk-hidden--visually\" id=\"07f792bb-4bae-472e-9c4d-30b077d9a9ab\" type=\"checkbox\" ><label class=\"sk-toggleable__label\" for=\"07f792bb-4bae-472e-9c4d-30b077d9a9ab\">columntransformer: ColumnTransformer</label><div class=\"sk-toggleable__content\"><pre>ColumnTransformer(transformers=[('pipeline-1',\n",
       "                                 Pipeline(steps=[('standardscaler',\n",
       "                                                  StandardScaler())]),\n",
       "                                 <sklearn.compose._column_transformer.make_column_selector object at 0x7f929a5a7e20>),\n",
       "                                ('pipeline-2',\n",
       "                                 Pipeline(steps=[('onehotencoder',\n",
       "                                                  OneHotEncoder(handle_unknown='ignore',\n",
       "                                                                sparse=False))]),\n",
       "                                 <sklearn.compose._column_transformer.make_column_selector object at 0x7f929a5a7700>)])</pre></div></div></div><div class=\"sk-parallel\"><div class=\"sk-parallel-item\"><div class=\"sk-item\"><div class=\"sk-label-container\"><div class=\"sk-label sk-toggleable\"><input class=\"sk-toggleable__control sk-hidden--visually\" id=\"8c283dd7-21c8-4d92-962d-f8ee87c404b6\" type=\"checkbox\" ><label class=\"sk-toggleable__label\" for=\"8c283dd7-21c8-4d92-962d-f8ee87c404b6\">pipeline-1</label><div class=\"sk-toggleable__content\"><pre><sklearn.compose._column_transformer.make_column_selector object at 0x7f929a5a7e20></pre></div></div></div><div class=\"sk-serial\"><div class=\"sk-item\"><div class=\"sk-serial\"><div class=\"sk-item\"><div class=\"sk-estimator sk-toggleable\"><input class=\"sk-toggleable__control sk-hidden--visually\" id=\"216aafbc-c2cf-41da-9465-bb6b243e012d\" type=\"checkbox\" ><label class=\"sk-toggleable__label\" for=\"216aafbc-c2cf-41da-9465-bb6b243e012d\">StandardScaler</label><div class=\"sk-toggleable__content\"><pre>StandardScaler()</pre></div></div></div></div></div></div></div></div><div class=\"sk-parallel-item\"><div class=\"sk-item\"><div class=\"sk-label-container\"><div class=\"sk-label sk-toggleable\"><input class=\"sk-toggleable__control sk-hidden--visually\" id=\"ed830210-3a00-48c9-8be1-9c38da5926ce\" type=\"checkbox\" ><label class=\"sk-toggleable__label\" for=\"ed830210-3a00-48c9-8be1-9c38da5926ce\">pipeline-2</label><div class=\"sk-toggleable__content\"><pre><sklearn.compose._column_transformer.make_column_selector object at 0x7f929a5a7700></pre></div></div></div><div class=\"sk-serial\"><div class=\"sk-item\"><div class=\"sk-serial\"><div class=\"sk-item\"><div class=\"sk-estimator sk-toggleable\"><input class=\"sk-toggleable__control sk-hidden--visually\" id=\"068cb3ab-064b-4f95-bb14-21f5c3717832\" type=\"checkbox\" ><label class=\"sk-toggleable__label\" for=\"068cb3ab-064b-4f95-bb14-21f5c3717832\">OneHotEncoder</label><div class=\"sk-toggleable__content\"><pre>OneHotEncoder(handle_unknown='ignore', sparse=False)</pre></div></div></div></div></div></div></div></div></div></div><div class=\"sk-item\"><div class=\"sk-estimator sk-toggleable\"><input class=\"sk-toggleable__control sk-hidden--visually\" id=\"e2065093-4611-4b72-be43-0c8244596117\" type=\"checkbox\" ><label class=\"sk-toggleable__label\" for=\"e2065093-4611-4b72-be43-0c8244596117\">SelectKBest</label><div class=\"sk-toggleable__content\"><pre>SelectKBest()</pre></div></div></div><div class=\"sk-item\"><div class=\"sk-estimator sk-toggleable\"><input class=\"sk-toggleable__control sk-hidden--visually\" id=\"1f33c326-7c4b-4829-aa68-f734f1bf680b\" type=\"checkbox\" ><label class=\"sk-toggleable__label\" for=\"1f33c326-7c4b-4829-aa68-f734f1bf680b\">Ridge</label><div class=\"sk-toggleable__content\"><pre>Ridge()</pre></div></div></div></div></div></div></div></div></div></div></div></div>"
      ],
      "text/plain": [
       "GridSearchCV(cv=10,\n",
       "             estimator=Pipeline(steps=[('columntransformer',\n",
       "                                        ColumnTransformer(transformers=[('pipeline-1',\n",
       "                                                                         Pipeline(steps=[('standardscaler',\n",
       "                                                                                          StandardScaler())]),\n",
       "                                                                         <sklearn.compose._column_transformer.make_column_selector object at 0x7f929a5a7e20>),\n",
       "                                                                        ('pipeline-2',\n",
       "                                                                         Pipeline(steps=[('onehotencoder',\n",
       "                                                                                          OneHotEncoder(handle_unknown='ignore',\n",
       "                                                                                                        sparse=False))]),\n",
       "                                                                         <sklearn.compose._column_transformer.make_column_selector object at 0x7f929a5a7700>)])),\n",
       "                                       ('selectkbest', SelectKBest()),\n",
       "                                       ('ridge', Ridge())]),\n",
       "             n_jobs=-1,\n",
       "             param_grid={'ridge__alpha': [5, 10, 15, 20],\n",
       "                         'selectkbest__k': range(180, 220, 5)})"
      ]
     },
     "execution_count": 47,
     "metadata": {},
     "output_type": "execute_result"
    }
   ],
   "source": [
    "set_config(display='diagram')\n",
    "grid"
   ]
  },
  {
   "cell_type": "code",
   "execution_count": 59,
   "metadata": {},
   "outputs": [],
   "source": [
    "y_test_preds = grid.predict(X_real_test)"
   ]
  },
  {
   "cell_type": "code",
   "execution_count": 60,
   "metadata": {},
   "outputs": [],
   "source": [
    "y_test_preds = np.e**y_test_preds"
   ]
  },
  {
   "cell_type": "code",
   "execution_count": 61,
   "metadata": {},
   "outputs": [
    {
     "data": {
      "text/plain": [
       "179992.50884869866"
      ]
     },
     "execution_count": 61,
     "metadata": {},
     "output_type": "execute_result"
    }
   ],
   "source": [
    "y_test_preds.mean()"
   ]
  },
  {
   "cell_type": "code",
   "execution_count": 62,
   "metadata": {},
   "outputs": [],
   "source": [
    "clean_test_df['SalePrice'] = y_test_preds"
   ]
  },
  {
   "cell_type": "code",
   "execution_count": 63,
   "metadata": {},
   "outputs": [],
   "source": [
    "final_kaggle_attempt = clean_test_df[['Id', 'SalePrice']]"
   ]
  },
  {
   "cell_type": "code",
   "execution_count": 64,
   "metadata": {},
   "outputs": [],
   "source": [
    "final_kaggle_attempt.to_csv('./uploads/final_kaggle_attempt.csv', index=False)"
   ]
  },
  {
   "cell_type": "code",
   "execution_count": 57,
   "metadata": {},
   "outputs": [],
   "source": [
    "# Kaggle RMSE: 18756.95"
   ]
  },
  {
   "cell_type": "markdown",
   "metadata": {},
   "source": [
    "## Conclusion\n",
    "\n",
    "**Model selection:** The three models demonstrated are all useful for different purposes. The Black Box model makes the most accurate prediction. This would be most useful for scenarios that have all of the feature information and ultimately care about getting closest to the target. Zillow and Redfin price estimators come to mind. This might also be useful for a potential buyer, who could use this model for inference: is the home they are looking to buy priced correctly? Should they negotiate a lower offer, or put in a higher bid?  \n",
    "The Ridge Regression using a Quantile transformer might be most useful to a real estate firm, where neighborhood and location are of utmost important. The normalization of this model places a higher emphasis on traditional real estate metrics - location, square footage, and age.  \n",
    "The Ridge Regression using Standard Scaler might be best for the homeowner and focuses on the features that can increase or decrease value of a home, and may help them make better investments. For example, the focus on overall quality and square footage may lead them to re-paint their house, upgrade appliances, or pursue a remodel or addition with greater peace of mind.\n",
    "\n",
    "**What features matter?** The Ridge Regression models confirms what was discovered during exploratory data analysis. The three most important factors to determine Sale Price are Location (neighborhood), Size (above ground square footage, lot area, and other square footage features), and Quality (overall quality, new house dummy, overall condition, and age). \n",
    "\n",
    "**Areas for Further Study:** Time constraints prevented me from further investigating certain features such as home type, kitchen quality, and unique individual features such as fireplaces, pools, etc. I would also like to experiment with segmenting the model by other factors such as new vs old home, sale type, and neighborhood."
   ]
  }
 ],
 "metadata": {
  "kernelspec": {
   "display_name": "Python 3",
   "language": "python",
   "name": "python3"
  },
  "language_info": {
   "codemirror_mode": {
    "name": "ipython",
    "version": 3
   },
   "file_extension": ".py",
   "mimetype": "text/x-python",
   "name": "python",
   "nbconvert_exporter": "python",
   "pygments_lexer": "ipython3",
   "version": "3.8.3"
  }
 },
 "nbformat": 4,
 "nbformat_minor": 4
}
